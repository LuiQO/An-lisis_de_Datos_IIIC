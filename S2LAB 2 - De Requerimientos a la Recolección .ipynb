{
 "cells": [
  {
   "cell_type": "markdown",
   "metadata": {},
   "source": [
    "<img src = \"https://biblioteca.aurens.com/colleges/logos/17.png\" width = 400>\n",
    "\n",
    "\n",
    "<h1 align=center><font size = 5>From Requirements to Collection</font></h1>\n"
   ]
  },
  {
   "cell_type": "markdown",
   "metadata": {},
   "source": [
    "## Introduction\n",
    "\n",
    "\n",
    "\n",
    "## Objectives\n",
    "\n",
    "After complting this lab you will be able to:\n",
    "\n",
    "-   Understand Data Requirements\n",
    "-   Explore the stages in Data Collection\n"
   ]
  },
  {
   "cell_type": "markdown",
   "metadata": {},
   "source": [
    "## Table of Contents\n",
    "\n",
    "<div class=\"alert alert-block alert-info\" style=\"margin-top: 20px\">\n",
    "    \n",
    "1. [Data Requirements](#0)<br>\n",
    "2. [Data Collection](#2)<br>\n",
    "</div>\n",
    "<hr>\n"
   ]
  },
  {
   "cell_type": "markdown",
   "metadata": {},
   "source": [
    "# Data Requirements <a id=\"0\"></a>\n"
   ]
  },
  {
   "cell_type": "markdown",
   "metadata": {},
   "source": [
    "\n"
   ]
  },
  {
   "cell_type": "markdown",
   "metadata": {},
   "source": [
    "<img src=\"https://cf-courses-data.s3.us.cloud-object-storage.appdomain.cloud/IBMDeveloperSkillsNetwork-DS0103EN-SkillsNetwork/labs/Module%202/images/lab2_fig1_flowchart_data_requirements.png\" width=500>\n"
   ]
  },
  {
   "cell_type": "markdown",
   "metadata": {},
   "source": [
    "In the videos, we learned that the chosen analytic approach determines the data requirements. Specifically, the analytic methods to be used require certain data content, formats and representations, guided by domain knowledge.\n"
   ]
  },
  {
   "cell_type": "markdown",
   "metadata": {},
   "source": [
    "In the **From Problem to Approach Lab**, we determined that automating the process of determining the cuisine of a given recipe or dish is potentially possible using the ingredients of the recipe or the dish. In order to build a model, we need extensive data of different cuisines and recipes.\n"
   ]
  },
  {
   "cell_type": "markdown",
   "metadata": {},
   "source": [
    "Identifying the required data fulfills the data requirements stage of the data science methodology.\n",
    "\n",
    "* * *\n"
   ]
  },
  {
   "cell_type": "markdown",
   "metadata": {},
   "source": [
    "# Data Collection <a id=\"2\"></a>\n"
   ]
  },
  {
   "cell_type": "markdown",
   "metadata": {},
   "source": [
    "<img src=\"https://cf-courses-data.s3.us.cloud-object-storage.appdomain.cloud/IBMDeveloperSkillsNetwork-DS0103EN-SkillsNetwork/labs/Module%202/images/lab2_fig2_flowchart_data_collection.png\" width=500>\n"
   ]
  },
  {
   "cell_type": "markdown",
   "metadata": {},
   "source": [
    "In the initial data collection stage, data scientists identify and gather the available data resources. These can be in the form of structured, unstructured, and even semi-structured data relevant to the problem domain.\n"
   ]
  },
  {
   "cell_type": "markdown",
   "metadata": {},
   "source": [
    "#### Web Scraping of Online Food Recipes\n",
    "\n",
    "A researcher named Yong-Yeol Ahn scraped tens of thousands of food recipes (cuisines and ingredients) from three different websites, namely:\n"
   ]
  },
  {
   "cell_type": "markdown",
   "metadata": {},
   "source": [
    "<img src=\"https://cf-courses-data.s3.us.cloud-object-storage.appdomain.cloud/IBMDeveloperSkillsNetwork-DS0103EN-SkillsNetwork/labs/Module%202/images/lab2_fig3_allrecipes.png\" width=500>\n",
    "<div align=\"center\">\n",
    "www.allrecipes.com\n",
    "</div>\n",
    "<br/><br/>\n",
    "<img src=\"https://cf-courses-data.s3.us.cloud-object-storage.appdomain.cloud/IBMDeveloperSkillsNetwork-DS0103EN-SkillsNetwork/labs/Module%202/images/lab2_fig4_epicurious.png\" width=500>\n",
    "<div align=\"center\">\n",
    "www.epicurious.com\n",
    "</div>\n",
    "<br/><br/>\n",
    "<img src=\"https://cf-courses-data.s3.us.cloud-object-storage.appdomain.cloud/IBMDeveloperSkillsNetwork-DS0103EN-SkillsNetwork/labs/Module%202/images/lab2_fig5_menupan.png\" width=500>\n",
    "<div align=\"center\">\n",
    "www.menupan.com\n",
    "</div>\n",
    "<br/><br/>\n"
   ]
  },
  {
   "cell_type": "markdown",
   "metadata": {},
   "source": [
    "For more information on Yong-Yeol Ahn and his research, you can read his paper on [Flavor Network and the Principles of Food Pairing](http://yongyeol.com/papers/ahn-flavornet-2011.pdf?utm_email=Email&utm_source=Nurture&utm_content=000026UJ&utm_term=10006555&utm_campaign=PLACEHOLDER&utm_id=SkillsNetwork-Courses-IBMDeveloperSkillsNetwork-DS0103EN-SkillsNetwork-20083987).\n"
   ]
  },
  {
   "cell_type": "markdown",
   "metadata": {},
   "source": [
    "Luckily, we will not need to carry out any data collection as the data that we need to meet the goal defined in the business understanding stage is readily available.\n"
   ]
  },
  {
   "cell_type": "markdown",
   "metadata": {},
   "source": [
    "### Using this notebook:\n",
    "\n",
    "To run any of the following cells of code, you can type **Shift + Enter** to excute the code in a cell.\n"
   ]
  },
  {
   "cell_type": "markdown",
   "metadata": {},
   "source": [
    "Get the version of R installed.\n"
   ]
  },
  {
   "cell_type": "code",
   "execution_count": 5,
   "metadata": {
    "jupyter": {
     "outputs_hidden": false
    }
   },
   "outputs": [
    {
     "data": {
      "text/html": [
       "'R version 3.6.1 (2019-07-05)'"
      ],
      "text/latex": [
       "'R version 3.6.1 (2019-07-05)'"
      ],
      "text/markdown": [
       "'R version 3.6.1 (2019-07-05)'"
      ],
      "text/plain": [
       "[1] \"R version 3.6.1 (2019-07-05)\""
      ]
     },
     "metadata": {},
     "output_type": "display_data"
    }
   ],
   "source": [
    "# check R version\n",
    "R.Version()$version.string"
   ]
  },
  {
   "cell_type": "markdown",
   "metadata": {},
   "source": [
    "Download the data from the IBM server.\n"
   ]
  },
  {
   "cell_type": "code",
   "execution_count": 20,
   "metadata": {
    "jupyter": {
     "outputs_hidden": false
    }
   },
   "outputs": [
    {
     "name": "stdout",
     "output_type": "stream",
     "text": [
      "[1] \"Done!\"\n"
     ]
    }
   ],
   "source": [
    "# click here and press Shift + Enter\n",
    "download.file(\"https://cf-courses-data.s3.us.cloud-object-storage.appdomain.cloud/IBMDeveloperSkillsNetwork-DS0103EN-SkillsNetwork/labs/Module%202/recipes.csv\",\n",
    "              destfile = \"C:\\ Users\\ Luis\\ JupiterNotebooks\\ recipes.csv\", quiet = TRUE)\n",
    "\n",
    "print(\"Done!\") # takes about 30 seconds"
   ]
  },
  {
   "cell_type": "markdown",
   "metadata": {},
   "source": [
    "Read the data into an R dataframe and name it **recipes**.\n"
   ]
  },
  {
   "cell_type": "code",
   "execution_count": 25,
   "metadata": {},
   "outputs": [],
   "source": [
    "recipes <- read.csv(\"C:\\ Users\\ Luis\\ JupiterNotebooks\\ recipes.csv\") # takes 10 sec"
   ]
  },
  {
   "cell_type": "markdown",
   "metadata": {},
   "source": [
    "Show the first few rows.\n"
   ]
  },
  {
   "cell_type": "code",
   "execution_count": 26,
   "metadata": {
    "jupyter": {
     "outputs_hidden": false
    }
   },
   "outputs": [
    {
     "data": {
      "text/html": [
       "<table>\n",
       "<thead><tr><th scope=col>country</th><th scope=col>almond</th><th scope=col>angelica</th><th scope=col>anise</th><th scope=col>anise_seed</th><th scope=col>apple</th><th scope=col>apple_brandy</th><th scope=col>apricot</th><th scope=col>armagnac</th><th scope=col>artemisia</th><th scope=col>...</th><th scope=col>whiskey</th><th scope=col>white_bread</th><th scope=col>white_wine</th><th scope=col>whole_grain_wheat_flour</th><th scope=col>wine</th><th scope=col>wood</th><th scope=col>yam</th><th scope=col>yeast</th><th scope=col>yogurt</th><th scope=col>zucchini</th></tr></thead>\n",
       "<tbody>\n",
       "\t<tr><td>Vietnamese</td><td>No        </td><td>No        </td><td>No        </td><td>No        </td><td>No        </td><td>No        </td><td>No        </td><td>No        </td><td>No        </td><td>...       </td><td>No        </td><td>No        </td><td>No        </td><td>No        </td><td>No        </td><td>No        </td><td>No        </td><td>No        </td><td>No        </td><td>No        </td></tr>\n",
       "\t<tr><td>Vietnamese</td><td>No        </td><td>No        </td><td>No        </td><td>No        </td><td>No        </td><td>No        </td><td>No        </td><td>No        </td><td>No        </td><td>...       </td><td>No        </td><td>No        </td><td>No        </td><td>No        </td><td>No        </td><td>No        </td><td>No        </td><td>No        </td><td>No        </td><td>No        </td></tr>\n",
       "\t<tr><td>Vietnamese</td><td>No        </td><td>No        </td><td>No        </td><td>No        </td><td>No        </td><td>No        </td><td>No        </td><td>No        </td><td>No        </td><td>...       </td><td>No        </td><td>No        </td><td>No        </td><td>No        </td><td>No        </td><td>No        </td><td>No        </td><td>No        </td><td>No        </td><td>No        </td></tr>\n",
       "\t<tr><td>Vietnamese</td><td>No        </td><td>No        </td><td>No        </td><td>No        </td><td>No        </td><td>No        </td><td>No        </td><td>No        </td><td>No        </td><td>...       </td><td>No        </td><td>No        </td><td>No        </td><td>No        </td><td>No        </td><td>No        </td><td>No        </td><td>No        </td><td>No        </td><td>No        </td></tr>\n",
       "\t<tr><td>Vietnamese</td><td>No        </td><td>No        </td><td>No        </td><td>No        </td><td>No        </td><td>No        </td><td>No        </td><td>No        </td><td>No        </td><td>...       </td><td>No        </td><td>No        </td><td>No        </td><td>No        </td><td>No        </td><td>No        </td><td>No        </td><td>No        </td><td>No        </td><td>No        </td></tr>\n",
       "\t<tr><td>Vietnamese</td><td>No        </td><td>No        </td><td>No        </td><td>No        </td><td>No        </td><td>No        </td><td>No        </td><td>No        </td><td>No        </td><td>...       </td><td>No        </td><td>No        </td><td>No        </td><td>No        </td><td>No        </td><td>No        </td><td>No        </td><td>No        </td><td>No        </td><td>No        </td></tr>\n",
       "</tbody>\n",
       "</table>\n"
      ],
      "text/latex": [
       "\\begin{tabular}{r|llllllllllllllllllllllllllllllllllllllllllllllllllllllllllllllllllllllllllllllllllllllllllllllllllllllllllllllllllllllllllllllllllllllllllllllllllllllllllllllllllllllllllllllllllllllllllllllllllllllllllllllllllllllllllllllllllllllllllllllllllllllllllllllllllllllllllllllllllllllllllllllllllllllllllllllllllllllllllllllllllllllllllllllllllllllllllllllllllllllllllllllllllllllllllllllll}\n",
       " country & almond & angelica & anise & anise\\_seed & apple & apple\\_brandy & apricot & armagnac & artemisia & ... & whiskey & white\\_bread & white\\_wine & whole\\_grain\\_wheat\\_flour & wine & wood & yam & yeast & yogurt & zucchini\\\\\n",
       "\\hline\n",
       "\t Vietnamese & No         & No         & No         & No         & No         & No         & No         & No         & No         & ...        & No         & No         & No         & No         & No         & No         & No         & No         & No         & No        \\\\\n",
       "\t Vietnamese & No         & No         & No         & No         & No         & No         & No         & No         & No         & ...        & No         & No         & No         & No         & No         & No         & No         & No         & No         & No        \\\\\n",
       "\t Vietnamese & No         & No         & No         & No         & No         & No         & No         & No         & No         & ...        & No         & No         & No         & No         & No         & No         & No         & No         & No         & No        \\\\\n",
       "\t Vietnamese & No         & No         & No         & No         & No         & No         & No         & No         & No         & ...        & No         & No         & No         & No         & No         & No         & No         & No         & No         & No        \\\\\n",
       "\t Vietnamese & No         & No         & No         & No         & No         & No         & No         & No         & No         & ...        & No         & No         & No         & No         & No         & No         & No         & No         & No         & No        \\\\\n",
       "\t Vietnamese & No         & No         & No         & No         & No         & No         & No         & No         & No         & ...        & No         & No         & No         & No         & No         & No         & No         & No         & No         & No        \\\\\n",
       "\\end{tabular}\n"
      ],
      "text/markdown": [
       "\n",
       "| country | almond | angelica | anise | anise_seed | apple | apple_brandy | apricot | armagnac | artemisia | ... | whiskey | white_bread | white_wine | whole_grain_wheat_flour | wine | wood | yam | yeast | yogurt | zucchini |\n",
       "|---|---|---|---|---|---|---|---|---|---|---|---|---|---|---|---|---|---|---|---|---|\n",
       "| Vietnamese | No         | No         | No         | No         | No         | No         | No         | No         | No         | ...        | No         | No         | No         | No         | No         | No         | No         | No         | No         | No         |\n",
       "| Vietnamese | No         | No         | No         | No         | No         | No         | No         | No         | No         | ...        | No         | No         | No         | No         | No         | No         | No         | No         | No         | No         |\n",
       "| Vietnamese | No         | No         | No         | No         | No         | No         | No         | No         | No         | ...        | No         | No         | No         | No         | No         | No         | No         | No         | No         | No         |\n",
       "| Vietnamese | No         | No         | No         | No         | No         | No         | No         | No         | No         | ...        | No         | No         | No         | No         | No         | No         | No         | No         | No         | No         |\n",
       "| Vietnamese | No         | No         | No         | No         | No         | No         | No         | No         | No         | ...        | No         | No         | No         | No         | No         | No         | No         | No         | No         | No         |\n",
       "| Vietnamese | No         | No         | No         | No         | No         | No         | No         | No         | No         | ...        | No         | No         | No         | No         | No         | No         | No         | No         | No         | No         |\n",
       "\n"
      ],
      "text/plain": [
       "  country    almond angelica anise anise_seed apple apple_brandy apricot\n",
       "1 Vietnamese No     No       No    No         No    No           No     \n",
       "2 Vietnamese No     No       No    No         No    No           No     \n",
       "3 Vietnamese No     No       No    No         No    No           No     \n",
       "4 Vietnamese No     No       No    No         No    No           No     \n",
       "5 Vietnamese No     No       No    No         No    No           No     \n",
       "6 Vietnamese No     No       No    No         No    No           No     \n",
       "  armagnac artemisia ... whiskey white_bread white_wine whole_grain_wheat_flour\n",
       "1 No       No        ... No      No          No         No                     \n",
       "2 No       No        ... No      No          No         No                     \n",
       "3 No       No        ... No      No          No         No                     \n",
       "4 No       No        ... No      No          No         No                     \n",
       "5 No       No        ... No      No          No         No                     \n",
       "6 No       No        ... No      No          No         No                     \n",
       "  wine wood yam yeast yogurt zucchini\n",
       "1 No   No   No  No    No     No      \n",
       "2 No   No   No  No    No     No      \n",
       "3 No   No   No  No    No     No      \n",
       "4 No   No   No  No    No     No      \n",
       "5 No   No   No  No    No     No      \n",
       "6 No   No   No  No    No     No      "
      ]
     },
     "metadata": {},
     "output_type": "display_data"
    }
   ],
   "source": [
    "head(recipes)"
   ]
  },
  {
   "cell_type": "markdown",
   "metadata": {},
   "source": [
    "Get the dimensions of the dataframe.\n"
   ]
  },
  {
   "cell_type": "code",
   "execution_count": 27,
   "metadata": {
    "jupyter": {
     "outputs_hidden": false
    }
   },
   "outputs": [
    {
     "data": {
      "text/html": [
       "57691"
      ],
      "text/latex": [
       "57691"
      ],
      "text/markdown": [
       "57691"
      ],
      "text/plain": [
       "[1] 57691"
      ]
     },
     "metadata": {},
     "output_type": "display_data"
    }
   ],
   "source": [
    "nrow(recipes)"
   ]
  },
  {
   "cell_type": "code",
   "execution_count": 28,
   "metadata": {
    "jupyter": {
     "outputs_hidden": false
    }
   },
   "outputs": [
    {
     "data": {
      "text/html": [
       "384"
      ],
      "text/latex": [
       "384"
      ],
      "text/markdown": [
       "384"
      ],
      "text/plain": [
       "[1] 384"
      ]
     },
     "metadata": {},
     "output_type": "display_data"
    }
   ],
   "source": [
    "ncol(recipes)"
   ]
  },
  {
   "cell_type": "markdown",
   "metadata": {},
   "source": [
    "So our dataset consists of 57,691 recipes. Each row represents a recipe, and for each recipe, the corresponding cuisine is documented as well as whether 384 ingredients exist in the recipe or not, beginning with almond and ending with zucchini.\n",
    "\n",
    "* * *\n"
   ]
  },
  {
   "cell_type": "markdown",
   "metadata": {},
   "source": [
    "Now that the data collection stage is complete, data scientists typically use descriptive statistics and visualization techniques to better understand the data and get acquainted with it. Data scientists, essentially, explore the data to:\n",
    "\n",
    "-   understand its content,\n",
    "-   assess its quality,\n",
    "-   discover any interesting preliminary insights, and,\n",
    "-   determine whether additional data is necessary to fill any gaps in the data.\n"
   ]
  }
 ],
 "metadata": {
  "kernelspec": {
   "display_name": "R",
   "language": "R",
   "name": "ir"
  },
  "language_info": {
   "codemirror_mode": "r",
   "file_extension": ".r",
   "mimetype": "text/x-r-source",
   "name": "R",
   "pygments_lexer": "r",
   "version": "3.6.1"
  },
  "widgets": {
   "state": {},
   "version": "1.1.2"
  }
 },
 "nbformat": 4,
 "nbformat_minor": 4
}
